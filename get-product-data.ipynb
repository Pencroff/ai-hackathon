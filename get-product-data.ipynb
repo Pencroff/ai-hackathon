{
 "cells": [
  {
   "cell_type": "code",
   "execution_count": 18,
   "metadata": {
    "collapsed": true
   },
   "outputs": [],
   "source": [
    "import requests as r\n",
    "import json"
   ]
  },
  {
   "cell_type": "code",
   "execution_count": 19,
   "metadata": {
    "collapsed": true
   },
   "outputs": [],
   "source": [
    "api_key = 'DEMO_KEY'"
   ]
  },
  {
   "cell_type": "code",
   "execution_count": 39,
   "metadata": {
    "collapsed": true
   },
   "outputs": [],
   "source": [
    "def get_product_list(q = ''):\n",
    "#   https://api.nal.usda.gov/ndb/search/?format=json&q=butter&sort=n&max=25&offset=0&api_key=DEMO_KEY\n",
    "    url_root = 'https://api.nal.usda.gov/ndb/search/?q={query}&format={format}&sort={sort}&max={records_limit}&&offset={offset}&api_key={api_key}'\n",
    "    params = { 'format': 'json', 'offset': 0, 'records_limit': 10, 'sort': 'n', 'api_key': api_key, 'query': q }\n",
    "    resp = r.get(url_root.format_map(params))\n",
    "    data = json.loads(resp._content)\n",
    "    result = list([(x['ndbno'], x['name']) for x in data['list']['item']])\n",
    "    return result\n",
    "    "
   ]
  },
  {
   "cell_type": "code",
   "execution_count": 42,
   "metadata": {
    "collapsed": false
   },
   "outputs": [
    {
     "name": "stdout",
     "output_type": "stream",
     "text": [
      "req\n",
      "[('45167404', \"ABE'S, COCONUT CARROT CAKE, UPC: 044261720871\"), ('45187081', \"ABE'S, MINI-MUFFINS, COCONUT CARROT CAKE, UPC: 044261490866\"), ('45051561', 'A BLEND OF BROCCOLI, CARROTS, CAULIFLOWER, ITALIAN BEANS, ZUCCHINI & LIMA BEANS, UPC: 041497033560'), ('45045631', 'AHOLD, MATCHSTICK CARROTS, UPC: 688267149009'), ('45045780', \"AHOLD, NATURE'S PROMISE, BABY FOOD, CARROTS, UPC: 688267156588\"), ('45045793', \"AHOLD, NATURE'S PROMISE, ORGANIC BABY FOOD, CARROTS PEAS, UPC: 688267156663\"), ('45015211', \"ANTONINA'S ARTISAN BAKERY, GLUTEN FREE CARROT CUPCAKE TOPPED WITH A CREAM CHEESE FROSTING, UPC: 898223002921\"), ('45015213', \"ANTONINA'S ARTISAN BAKERY, MINI PANCAKES, CARROT, UPC: 898223002914\"), ('45186019', 'APRICOT GINGER GLAZED CARROTS, UPC: 815712012957'), ('45112705', \"ARNIE'S, CARROT CAKE, UPC: 076185004911\")]\n"
     ]
    }
   ],
   "source": [
    "get_product_list('carrot')"
   ]
  },
  {
   "cell_type": "code",
   "execution_count": 84,
   "metadata": {
    "collapsed": false
   },
   "outputs": [],
   "source": [
    "def get_product_detail(product_id):\n",
    "#   https://api.nal.usda.gov/ndb/reports/?ndbno=01009&type=f&format=json&api_key=DEMO_KEY\n",
    "    url_root = 'https://api.nal.usda.gov/ndb/reports/?ndbno={product_id}&format={format}&type={type}&api_key={api_key}'\n",
    "    params = { 'format': 'json', 'type': 'f', 'api_key': api_key, 'product_id': product_id }\n",
    "    resp = r.get(url_root.format_map(params))\n",
    "    data = json.loads(resp._content)\n",
    "    item = data['report']['food']\n",
    "    result = {}\n",
    "    result['id'] = item['ndbno']\n",
    "    result['name'] = item['name']\n",
    "    nutrients = item['nutrients']\n",
    "    for n_item in nutrients:\n",
    "        if n_item['nutrient_id'] == '208':\n",
    "           result['energy'] = (int(n_item['value']), n_item['unit'])\n",
    "        if n_item['nutrient_id'] == '203':\n",
    "           result['protein'] = (float(n_item['value']), n_item['unit'])\n",
    "        if n_item['nutrient_id'] == '204':\n",
    "           result['fat'] = (float(n_item['value']), n_item['unit'])\n",
    "        if n_item['nutrient_id'] == '205':\n",
    "           result['carbohydrate'] = (float(n_item['value']), n_item['unit'])\n",
    "        if n_item['nutrient_id'] == '291':\n",
    "           result['fiber'] = (float(n_item['value']), n_item['unit'])\n",
    "        if n_item['nutrient_id'] == '269':\n",
    "           result['sugar'] = (float(n_item['value']), n_item['unit'])\n",
    "    return result"
   ]
  },
  {
   "cell_type": "code",
   "execution_count": 85,
   "metadata": {
    "collapsed": false
   },
   "outputs": [
    {
     "name": "stdout",
     "output_type": "stream",
     "text": [
      "{'id': '45051561', 'name': 'A BLEND OF BROCCOLI, CARROTS, CAULIFLOWER, ITALIAN BEANS, ZUCCHINI & LIMA BEANS, UPC: 041497033560', 'energy': (40, 'kcal'), 'protein': (1.33, 'g'), 'fat': (0.0, 'g'), 'carbohydrate': (8.0, 'g'), 'fiber': (2.7, 'g'), 'sugar': (2.67, 'g')}\n"
     ]
    }
   ],
   "source": [
    "get_product_detail('45051561')"
   ]
  },
  {
   "cell_type": "code",
   "execution_count": null,
   "metadata": {
    "collapsed": true
   },
   "outputs": [],
   "source": []
  }
 ],
 "metadata": {
  "kernelspec": {
   "display_name": "Python 3",
   "language": "python",
   "name": "python3"
  },
  "language_info": {
   "codemirror_mode": {
    "name": "ipython",
    "version": 3
   },
   "file_extension": ".py",
   "mimetype": "text/x-python",
   "name": "python",
   "nbconvert_exporter": "python",
   "pygments_lexer": "ipython3",
   "version": "3.6.0"
  }
 },
 "nbformat": 4,
 "nbformat_minor": 2
}

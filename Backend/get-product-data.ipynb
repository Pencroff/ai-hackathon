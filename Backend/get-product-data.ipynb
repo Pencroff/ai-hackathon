{
 "cells": [
  {
   "cell_type": "code",
   "execution_count": 16,
   "metadata": {
    "collapsed": false
   },
   "outputs": [],
   "source": [
    "import requests as r\n",
    "import json\n",
    "from sklearn.feature_extraction.text import CountVectorizer\n",
    "from scipy.spatial.distance import cosine, euclidean, jaccard"
   ]
  },
  {
   "cell_type": "code",
   "execution_count": 17,
   "metadata": {
    "collapsed": true
   },
   "outputs": [],
   "source": [
    "api_key = 'DEMO_KEY'"
   ]
  },
  {
   "cell_type": "code",
   "execution_count": 18,
   "metadata": {
    "collapsed": true
   },
   "outputs": [],
   "source": [
    "def get_product_list(q = ''):\n",
    "#   https://api.nal.usda.gov/ndb/search/?format=json&q=butter&sort=n&max=25&offset=0&api_key=DEMO_KEY\n",
    "    url_root = 'https://api.nal.usda.gov/ndb/search/?q={query}&format={format}&sort={sort}&max={records_limit}&&offset={offset}&api_key={api_key}'\n",
    "    params = { 'format': 'json', 'offset': 0, 'records_limit': 1000, 'sort': 'n', 'api_key': api_key, 'query': q }\n",
    "    resp = r.get(url_root.format_map(params))\n",
    "    data = json.loads(resp._content)\n",
    "    result = list([(x['ndbno'], x['name']) for x in data['list']['item']])\n",
    "    return result"
   ]
  },
  {
   "cell_type": "code",
   "execution_count": 21,
   "metadata": {
    "collapsed": false
   },
   "outputs": [
    {
     "name": "stdout",
     "output_type": "stream",
     "text": [
      "('45187288', 'BEAGLE BAY ORGANICS, RAW SAUERKRAUT, CARROT & DILL, UPC: 654367229521')\n",
      "('11960', 'Carrots, baby, raw')\n",
      "('11124', 'Carrots, raw')\n",
      "('45161981', 'JUISI, RAW & COLD PRESSED JUICE, CARROT ROOT, UPC: 855917004104')\n",
      "('45154209', 'WONDERFULLY RAW, DIPPERZ, CHEEZY BROCCOLI, SUNFLOWER & CARROT CRUNCHERS, UPC: 850370005194')\n"
     ]
    }
   ],
   "source": [
    "lst = get_product_list('carrots raw')\n",
    "# print(len(lst))\n",
    "for item in lst:\n",
    "    print(item)\n",
    "txt_data = [x[1] for x in lst]"
   ]
  },
  {
   "cell_type": "code",
   "execution_count": 26,
   "metadata": {
    "collapsed": false
   },
   "outputs": [
    {
     "name": "stdout",
     "output_type": "stream",
     "text": [
      "('45187288', 'BEAGLE BAY ORGANICS, RAW SAUERKRAUT, CARROT & DILL, UPC: 654367229521', 0.90000000000000002)\n",
      "('11960', 'Carrots, baby, raw', 0.33333333333333331)\n",
      "('11124', 'Carrots, raw', 0.0)\n",
      "('45161981', 'JUISI, RAW & COLD PRESSED JUICE, CARROT ROOT, UPC: 855917004104', 0.90000000000000002)\n",
      "('45154209', 'WONDERFULLY RAW, DIPPERZ, CHEEZY BROCCOLI, SUNFLOWER & CARROT CRUNCHERS, UPC: 850370005194', 0.90909090909090906)\n"
     ]
    },
    {
     "data": {
      "text/plain": [
       "('11124', 'Carrots, raw', 0.0)"
      ]
     },
     "execution_count": 26,
     "metadata": {},
     "output_type": "execute_result"
    }
   ],
   "source": [
    "txt_data\n",
    "vectorizer = CountVectorizer(min_df=1)\n",
    "X = vectorizer.fit_transform(txt_data)\n",
    "req_X = vectorizer.transform(['carrots raw']).toarray()\n",
    "for idx, item in enumerate(X):\n",
    "    lst[idx] = (lst[idx][0], lst[idx][1], jaccard(item.toarray(), req_X)) \n",
    "#     print(cosine(item.toarray(), req_X), euclidean(item.toarray(), req_X), jaccard(item.toarray(), req_X))\n",
    "for item in lst:\n",
    "    print(item)\n",
    "min(lst, key = lambda x: x[2])"
   ]
  },
  {
   "cell_type": "code",
   "execution_count": 84,
   "metadata": {
    "collapsed": false
   },
   "outputs": [],
   "source": [
    "def get_product_detail(product_id):\n",
    "#   https://api.nal.usda.gov/ndb/reports/?ndbno=01009&type=f&format=json&api_key=DEMO_KEY\n",
    "    url_root = 'https://api.nal.usda.gov/ndb/reports/?ndbno={product_id}&format={format}&type={type}&api_key={api_key}'\n",
    "    params = { 'format': 'json', 'type': 'f', 'api_key': api_key, 'product_id': product_id }\n",
    "    resp = r.get(url_root.format_map(params))\n",
    "    data = json.loads(resp._content)\n",
    "    item = data['report']['food']\n",
    "    result = {}\n",
    "    result['id'] = item['ndbno']\n",
    "    result['name'] = item['name']\n",
    "    nutrients = item['nutrients']\n",
    "    for n_item in nutrients:\n",
    "        if n_item['nutrient_id'] == '208':\n",
    "           result['energy'] = (int(n_item['value']), n_item['unit'])\n",
    "        if n_item['nutrient_id'] == '203':\n",
    "           result['protein'] = (float(n_item['value']), n_item['unit'])\n",
    "        if n_item['nutrient_id'] == '204':\n",
    "           result['fat'] = (float(n_item['value']), n_item['unit'])\n",
    "        if n_item['nutrient_id'] == '205':\n",
    "           result['carbohydrate'] = (float(n_item['value']), n_item['unit'])\n",
    "        if n_item['nutrient_id'] == '291':\n",
    "           result['fiber'] = (float(n_item['value']), n_item['unit'])\n",
    "        if n_item['nutrient_id'] == '269':\n",
    "           result['sugar'] = (float(n_item['value']), n_item['unit'])\n",
    "    return result"
   ]
  },
  {
   "cell_type": "code",
   "execution_count": 85,
   "metadata": {
    "collapsed": false
   },
   "outputs": [
    {
     "name": "stdout",
     "output_type": "stream",
     "text": [
      "{'id': '45051561', 'name': 'A BLEND OF BROCCOLI, CARROTS, CAULIFLOWER, ITALIAN BEANS, ZUCCHINI & LIMA BEANS, UPC: 041497033560', 'energy': (40, 'kcal'), 'protein': (1.33, 'g'), 'fat': (0.0, 'g'), 'carbohydrate': (8.0, 'g'), 'fiber': (2.7, 'g'), 'sugar': (2.67, 'g')}\n"
     ]
    }
   ],
   "source": [
    "get_product_detail('45051561')"
   ]
  },
  {
   "cell_type": "code",
   "execution_count": null,
   "metadata": {
    "collapsed": true
   },
   "outputs": [],
   "source": [
    ""
   ]
  }
 ],
 "metadata": {
  "kernelspec": {
   "display_name": "Python 3",
   "language": "python",
   "name": "python3"
  },
  "language_info": {
   "codemirror_mode": {
    "name": "ipython",
    "version": 3.0
   },
   "file_extension": ".py",
   "mimetype": "text/x-python",
   "name": "python",
   "nbconvert_exporter": "python",
   "pygments_lexer": "ipython3",
   "version": "3.6.0"
  }
 },
 "nbformat": 4,
 "nbformat_minor": 0
}